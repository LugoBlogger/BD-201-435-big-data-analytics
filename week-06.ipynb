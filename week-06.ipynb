{
 "cells": [
  {
   "cell_type": "markdown",
   "metadata": {},
   "source": [
    "## Week 06"
   ]
  },
  {
   "cell_type": "markdown",
   "metadata": {},
   "source": [
    "You can also run `word_count_submit.py` with  \n",
    "```bash\n",
    "pyspark-submit word_count_submit.py\n",
    "```\n",
    "in Anaconda Prompt (miniconda3)"
   ]
  },
  {
   "cell_type": "markdown",
   "metadata": {},
   "source": [
    "In this week, we want to compare how fast is pyspark to process eight books."
   ]
  },
  {
   "cell_type": "code",
   "execution_count": 21,
   "metadata": {},
   "outputs": [],
   "source": [
    "from pyspark.sql import SparkSession\n",
    "import pyspark.sql.functions as F\n",
    "\n",
    "import glob\n",
    "import pandas as pd\n",
    "import re\n",
    "\n",
    "from collections import Counter"
   ]
  },
  {
   "cell_type": "code",
   "execution_count": 22,
   "metadata": {},
   "outputs": [],
   "source": [
    "spark = (SparkSession\n",
    "  .builder\n",
    "  .master(\"local[*]\")   # optional\n",
    "  .appName(\"Word Counts Program.\")\n",
    "  .getOrCreate())"
   ]
  },
  {
   "cell_type": "markdown",
   "metadata": {},
   "source": [
    "A single novel (Jane Austen 1813 - Pride and Prejudice)"
   ]
  },
  {
   "cell_type": "code",
   "execution_count": 24,
   "metadata": {},
   "outputs": [
    {
     "name": "stdout",
     "output_type": "stream",
     "text": [
      "+----+-----+\n",
      "|word|count|\n",
      "+----+-----+\n",
      "| the| 4496|\n",
      "|  to| 4235|\n",
      "|  of| 3719|\n",
      "| and| 3602|\n",
      "| her| 2223|\n",
      "|   i| 2052|\n",
      "|   a| 1997|\n",
      "|  in| 1920|\n",
      "| was| 1844|\n",
      "| she| 1703|\n",
      "+----+-----+\n",
      "only showing top 10 rows\n",
      "\n"
     ]
    }
   ],
   "source": [
    "# Computational times: (4.6 secs first run, 0.2 - 0.4 secs second runs)\n",
    "results = (\n",
    "  spark.read.text(\"./data/gutenberg_books/1342-0.txt\")\n",
    "  .select(F.split(F.col(\"value\"), \" \").alias(\"line\"))\n",
    "  .select(F.explode(F.col(\"line\")).alias(\"word\"))\n",
    "  .select(F.lower(F.col(\"word\")).alias(\"word\"))\n",
    "  .select(F.regexp_extract(F.col(\"word\"), \"[a-z]+\", 0).alias(\"word\"))\n",
    "  .where(F.col(\"word\") != \"\")\n",
    "  .groupby(\"word\")\n",
    "  .count()\n",
    ")\n",
    "\n",
    "# Show the top 10 of the most occurrence words in Jane Austen - Pride and Prejudice\n",
    "results.orderBy(\"count\", ascending=False).show(10)"
   ]
  },
  {
   "cell_type": "markdown",
   "metadata": {},
   "source": [
    "8 classical books\n",
    "- `11-0.txt`: Lewis Carol (1865) - Alice's Adventures in Wonderland\n",
    "- `84-0.txt`: Mary Shelley (1818) - Frankenstein; or, The Modern Promotheus\n",
    "- `1342-0.txt`: Jane Austen (1813) - Pride and Prejudice\n",
    "- `1661-0.txt`: Arthur Conan Doyle (1892) - The Adventures of Sherlock Holmes\n",
    "- `2701-0.txt`: Herman Melville (1851) - Moby-Dick; or, The Whale\n",
    "- `pg132.txt`: 孫子/Sun Tzu (5th century BC) - 孫子兵法 (The Art of War / Sun Tzu's Military Method) \n",
    "- `pg514.txt`: Louisa May Alcott (1868-1869) - Little Women\n",
    "- `pg1399.txt`: Лев Толстой/Leo Tolstoy (1878) - Анна Каренина (Anna Karenina)"
   ]
  },
  {
   "cell_type": "code",
   "execution_count": 25,
   "metadata": {},
   "outputs": [
    {
     "name": "stdout",
     "output_type": "stream",
     "text": [
      "+----+-----+\n",
      "|word|count|\n",
      "+----+-----+\n",
      "| the|60331|\n",
      "| and|39571|\n",
      "|  to|31793|\n",
      "|  of|30994|\n",
      "|   a|23322|\n",
      "|  in|19247|\n",
      "|   i|19189|\n",
      "|that|15784|\n",
      "|  he|15253|\n",
      "|  it|14744|\n",
      "+----+-----+\n",
      "only showing top 10 rows\n",
      "\n"
     ]
    }
   ],
   "source": [
    "# Computational time: 5.1 secs for first run; 0.5 - 0.7 for the second runs\n",
    "results = (\n",
    "  spark.read.text(\"./data/gutenberg_books/*.txt\")\n",
    "  .select(F.split(F.col(\"value\"), \" \").alias(\"line\"))\n",
    "  .select(F.explode(F.col(\"line\")).alias(\"word\"))\n",
    "  .select(F.lower(F.col(\"word\")).alias(\"word\"))\n",
    "  .select(F.regexp_extract(F.col(\"word\"), \"[a-z]+\", 0).alias(\"word\"))\n",
    "  .where(F.col(\"word\") != \"\")\n",
    "  .groupby(\"word\")\n",
    "  .count()\n",
    ")\n",
    "\n",
    "# Show the top 10 of the most occurrence words in all books inside `data/project-gutenberg/`\n",
    "results.orderBy(\"count\", ascending=False).show(10)"
   ]
  },
  {
   "cell_type": "markdown",
   "metadata": {
    "vscode": {
     "languageId": "plaintext"
    }
   },
   "source": [
    "Let us compare to the pandas"
   ]
  },
  {
   "cell_type": "code",
   "execution_count": 26,
   "metadata": {},
   "outputs": [
    {
     "name": "stdout",
     "output_type": "stream",
     "text": [
      "     word  count\n",
      "14    the  60555\n",
      "22    and  39862\n",
      "69     to  31868\n",
      "16     of  31060\n",
      "93      a  23499\n",
      "5      in  19427\n",
      "63      i  19390\n",
      "131  that  15954\n",
      "701    he  15348\n",
      "30     it  14819\n"
     ]
    }
   ],
   "source": [
    "# Read all text files from the folder\n",
    "files = glob.glob(\"./data/gutenberg_books/*.txt\")\n",
    "\n",
    "# Initialize an empty list to store words\n",
    "words = []\n",
    "\n",
    "# Process each file\n",
    "for file in files:\n",
    "    with open(file, 'r', encoding='utf-8') as f:\n",
    "        # Read the file line by line\n",
    "        for line in f:\n",
    "            # Split each line into words and convert them to lowercase\n",
    "            line_words = re.findall(r\"[a-z]+\", line.lower())\n",
    "            words.extend(line_words)\n",
    "\n",
    "# Count the occurrence of each word\n",
    "word_counts = Counter(words)\n",
    "\n",
    "# Convert the result into a Pandas DataFrame\n",
    "df = pd.DataFrame(word_counts.items(), columns=['word', 'count'])\n",
    "\n",
    "# Sort the DataFrame by 'count' in descending order\n",
    "df = df.sort_values(by='count', ascending=False)\n",
    "\n",
    "# Show the top 10 most frequent words\n",
    "print(df.head(10))\n",
    "\n",
    "# Write the DataFrame to a CSV file\n",
    "df.to_csv(\"./data/vocab_count.csv\", index=False)"
   ]
  }
 ],
 "metadata": {
  "kernelspec": {
   "display_name": "learnPySpark",
   "language": "python",
   "name": "python3"
  },
  "language_info": {
   "codemirror_mode": {
    "name": "ipython",
    "version": 3
   },
   "file_extension": ".py",
   "mimetype": "text/x-python",
   "name": "python",
   "nbconvert_exporter": "python",
   "pygments_lexer": "ipython3",
   "version": "3.11.9"
  }
 },
 "nbformat": 4,
 "nbformat_minor": 2
}
