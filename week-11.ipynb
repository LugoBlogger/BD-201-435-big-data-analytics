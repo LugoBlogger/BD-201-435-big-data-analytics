{
 "cells": [
  {
   "cell_type": "markdown",
   "metadata": {},
   "source": [
    "# Week 11"
   ]
  },
  {
   "cell_type": "markdown",
   "metadata": {},
   "source": [
    "In this week, we learn the difference between SQL \n",
    "and PySpark and also how to use SQL in PySpark.   \n",
    "At the end we will understand how to write purely PySpark-style functions\n",
    "for performing queries, purely SQL-style operators, and mixed both them."
   ]
  },
  {
   "cell_type": "code",
   "execution_count": 1,
   "metadata": {},
   "outputs": [],
   "source": [
    "import pyspark.sql.functions as F\n",
    "import pyspark.sql.types as T\n",
    "\n",
    "from pyspark.sql import SparkSession\n",
    "from pyspark.sql.utils import AnalysisException"
   ]
  },
  {
   "cell_type": "code",
   "execution_count": 2,
   "metadata": {},
   "outputs": [],
   "source": [
    "spark = (SparkSession\n",
    "  .builder\n",
    "  .master(\"local[*]\")   # optional\n",
    "  .appName(\"Bilingual PySpark\")\n",
    "  .getOrCreate())"
   ]
  },
  {
   "cell_type": "code",
   "execution_count": 3,
   "metadata": {},
   "outputs": [
    {
     "data": {
      "text/html": [
       "\n",
       "            <div>\n",
       "                <p><b>SparkSession - in-memory</b></p>\n",
       "                \n",
       "        <div>\n",
       "            <p><b>SparkContext</b></p>\n",
       "\n",
       "            <p><a href=\"http://LAPTOP-2P5TQC27:4040\">Spark UI</a></p>\n",
       "\n",
       "            <dl>\n",
       "              <dt>Version</dt>\n",
       "                <dd><code>v3.5.2</code></dd>\n",
       "              <dt>Master</dt>\n",
       "                <dd><code>local[*]</code></dd>\n",
       "              <dt>AppName</dt>\n",
       "                <dd><code>Bilingual PySpark</code></dd>\n",
       "            </dl>\n",
       "        </div>\n",
       "        \n",
       "            </div>\n",
       "        "
      ],
      "text/plain": [
       "<pyspark.sql.session.SparkSession at 0x278de7f5250>"
      ]
     },
     "execution_count": 3,
     "metadata": {},
     "output_type": "execute_result"
    }
   ],
   "source": [
    "spark"
   ]
  },
  {
   "cell_type": "markdown",
   "metadata": {},
   "source": [
    "## A demonstration between PySpark functions and ANSI SQL"
   ]
  },
  {
   "cell_type": "markdown",
   "metadata": {},
   "source": [
    "For ANSI SQL, we use PostgreSQL as its implementation. \n",
    "If you want to learn or review SQL in quick way, please check\n",
    "my repo [AK-201-426-data-science/ch-24-(pgAdmin)-database-and-sql](\n",
    "https://github.com/LugoBlogger/AK-201-426-data-science/blob/master/ch-24-(pgAdmin)-database-and-sql.md). There is also a video tutorial in my Youtube channel\n",
    "[AK-201-426 - Data Science - Week 15 - SQL](https://youtu.be/YlaQyeHgBUg)"
   ]
  },
  {
   "cell_type": "markdown",
   "metadata": {},
   "source": [
    "First we use the following elements table to show the difference in sytanx\n",
    "between SQL and PySpark\n"
   ]
  },
  {
   "cell_type": "markdown",
   "metadata": {},
   "source": [
    "<img src=\"./img-resources/07-elements-table.png\" width=1000>"
   ]
  },
  {
   "cell_type": "markdown",
   "metadata": {},
   "source": [
    "**SQL in PostgreSQL**\n",
    "\n",
    "```sql\n",
    "SELECT \"Period\", COUNT(*) \n",
    "  FROM periodic_table\n",
    "  WHERE \"Phase\" = 'liq'\n",
    "  GROUP BY \"Period\";\n",
    "```\n",
    "\n",
    "<img src=\"./img-resources/07-elements-table-sql-results.png\" width=400>"
   ]
  },
  {
   "cell_type": "markdown",
   "metadata": {},
   "source": [
    "**PySpark functions**"
   ]
  },
  {
   "cell_type": "code",
   "execution_count": 4,
   "metadata": {},
   "outputs": [
    {
     "name": "stdout",
     "output_type": "stream",
     "text": [
      "+------------+---------+------+----------+----------------+---------------+-----------------+------+-----+-----+-----------+-------+-----+--------+---------+----------+------------+-----------------+---------------+-------+------------+------------+----------------+----------+----+------------+--------------+---------------+\n",
      "|AtomicNumber|  Element|Symbol|AtomicMass|NumberofNeutrons|NumberofProtons|NumberofElectrons|Period|Group|Phase|Radioactive|Natural|Metal|Nonmetal|Metalloid|      Type|AtomicRadius|Electronegativity|FirstIonization|Density|MeltingPoint|BoilingPoint|NumberOfIsotopes|Discoverer|Year|SpecificHeat|NumberofShells|NumberofValence|\n",
      "+------------+---------+------+----------+----------------+---------------+-----------------+------+-----+-----+-----------+-------+-----+--------+---------+----------+------------+-----------------+---------------+-------+------------+------------+----------------+----------+----+------------+--------------+---------------+\n",
      "|           1| Hydrogen|     H|     1.007|               0|              1|                1|     1|    1|  gas|       NULL|    yes| NULL|     yes|     NULL|  Nonmetal|        0.79|              2.2|        13.5984|8.99E-5|      14.175|       20.28|               3| Cavendish|1766|      14.304|             1|              1|\n",
      "|           2|   Helium|    He|     4.002|               2|              2|                2|     1|   18|  gas|       NULL|    yes| NULL|     yes|     NULL| Noble Gas|        0.49|             NULL|        24.5874|1.79E-4|        NULL|        4.22|               5|   Janssen|1868|       5.193|             1|           NULL|\n",
      "|           3|  Lithium|    Li|     6.941|               4|              3|                3|     2|    1|solid|       NULL|    yes|  yes|    NULL|     NULL|Alkali ...|         2.1|             0.98|         5.3917|  0.534|      453.85|      1615.0|               5| Arfvedson|1817|       3.582|             2|              1|\n",
      "|           4|Beryllium|    Be|     9.012|               5|              4|                4|     2|    2|solid|       NULL|    yes|  yes|    NULL|     NULL|Alkalin...|         1.4|             1.57|         9.3227|   1.85|     1560.15|      2742.0|               6|Vaulquelin|1798|       1.825|             2|              2|\n",
      "|           5|    Boron|     B|    10.811|               6|              5|                5|     2|   13|solid|       NULL|    yes| NULL|    NULL|      yes| Metalloid|         1.2|             2.04|          8.298|   2.34|     2573.15|      4200.0|               6|Gay-Lussac|1808|       1.026|             2|              3|\n",
      "+------------+---------+------+----------+----------------+---------------+-----------------+------+-----+-----+-----------+-------+-----+--------+---------+----------+------------+-----------------+---------------+-------+------------+------------+----------------+----------+----+------------+--------------+---------------+\n",
      "only showing top 5 rows\n",
      "\n",
      "root\n",
      " |-- AtomicNumber: integer (nullable = true)\n",
      " |-- Element: string (nullable = true)\n",
      " |-- Symbol: string (nullable = true)\n",
      " |-- AtomicMass: double (nullable = true)\n",
      " |-- NumberofNeutrons: integer (nullable = true)\n",
      " |-- NumberofProtons: integer (nullable = true)\n",
      " |-- NumberofElectrons: integer (nullable = true)\n",
      " |-- Period: integer (nullable = true)\n",
      " |-- Group: integer (nullable = true)\n",
      " |-- Phase: string (nullable = true)\n",
      " |-- Radioactive: string (nullable = true)\n",
      " |-- Natural: string (nullable = true)\n",
      " |-- Metal: string (nullable = true)\n",
      " |-- Nonmetal: string (nullable = true)\n",
      " |-- Metalloid: string (nullable = true)\n",
      " |-- Type: string (nullable = true)\n",
      " |-- AtomicRadius: double (nullable = true)\n",
      " |-- Electronegativity: double (nullable = true)\n",
      " |-- FirstIonization: double (nullable = true)\n",
      " |-- Density: double (nullable = true)\n",
      " |-- MeltingPoint: double (nullable = true)\n",
      " |-- BoilingPoint: double (nullable = true)\n",
      " |-- NumberOfIsotopes: integer (nullable = true)\n",
      " |-- Discoverer: string (nullable = true)\n",
      " |-- Year: integer (nullable = true)\n",
      " |-- SpecificHeat: double (nullable = true)\n",
      " |-- NumberofShells: integer (nullable = true)\n",
      " |-- NumberofValence: integer (nullable = true)\n",
      "\n"
     ]
    }
   ],
   "source": [
    "elements = spark.read.csv(\n",
    "  \"./data/elements/Periodic_Table_Of_Elements.csv\",\n",
    "  header=True, \n",
    "  inferSchema=True)\n",
    "\n",
    "elements.show(5, truncate=10)\n",
    "elements.printSchema()"
   ]
  },
  {
   "cell_type": "code",
   "execution_count": 5,
   "metadata": {},
   "outputs": [
    {
     "name": "stdout",
     "output_type": "stream",
     "text": [
      "+-------+\n",
      "|Element|\n",
      "+-------+\n",
      "|Bromine|\n",
      "|Mercury|\n",
      "+-------+\n",
      "\n"
     ]
    }
   ],
   "source": [
    "(elements\n",
    "  .where(F.col(\"phase\") == \"liq\")\n",
    "  .select(F.col(\"Element\"))\n",
    "  .show())"
   ]
  },
  {
   "cell_type": "code",
   "execution_count": 6,
   "metadata": {},
   "outputs": [
    {
     "name": "stdout",
     "output_type": "stream",
     "text": [
      "+------+-----+\n",
      "|period|count|\n",
      "+------+-----+\n",
      "|     6|    1|\n",
      "|     4|    1|\n",
      "+------+-----+\n",
      "\n"
     ]
    }
   ],
   "source": [
    "(elements\n",
    "  .where(F.col(\"phase\") == \"liq\")\n",
    "  .groupby(\"period\")\n",
    "  .count()\n",
    "  .show())"
   ]
  },
  {
   "cell_type": "markdown",
   "metadata": {},
   "source": [
    "**Embedded SQL in PySpark**"
   ]
  },
  {
   "cell_type": "markdown",
   "metadata": {},
   "source": [
    "PySpark doesn't make the link between the Python variable `elements` automatically"
   ]
  },
  {
   "cell_type": "code",
   "execution_count": 7,
   "metadata": {},
   "outputs": [
    {
     "name": "stdout",
     "output_type": "stream",
     "text": [
      "[TABLE_OR_VIEW_NOT_FOUND] The table or view `elements` cannot be found. Verify the spelling and correctness of the schema and catalog.\n",
      "If you did not qualify the name with a schema, verify the current_schema() output, or qualify the name with the correct schema and catalog.\n",
      "To tolerate the error on drop use DROP VIEW IF EXISTS or DROP TABLE IF EXISTS.; line 3 pos 11;\n",
      "'Aggregate ['period], ['period, unresolvedalias(count(1), None)]\n",
      "+- 'Filter ('phase = liq)\n",
      "   +- 'UnresolvedRelation [elements], [], false\n",
      "\n"
     ]
    }
   ],
   "source": [
    "# to drop `elements` from PySpark view\n",
    "spark.catalog.dropTempView(\"elements\") \n",
    "\n",
    "try:\n",
    "  spark.sql(\"\"\"\n",
    "    SELECT period, COUNT(*) \n",
    "      FROM elements \n",
    "      WHERE phase='liq' \n",
    "      GROUP BY period\n",
    "  \"\"\").show(5)\n",
    "except AnalysisException as e:\n",
    "  print(e)"
   ]
  },
  {
   "cell_type": "markdown",
   "metadata": {},
   "source": [
    "Create a link of to `elements` Python variable to internal \"elements\"\n",
    "that can be accessed with embedded SQL commands in PySpark"
   ]
  },
  {
   "cell_type": "code",
   "execution_count": 8,
   "metadata": {},
   "outputs": [
    {
     "name": "stdout",
     "output_type": "stream",
     "text": [
      "+------+--------+\n",
      "|period|count(1)|\n",
      "+------+--------+\n",
      "|     6|       1|\n",
      "|     4|       1|\n",
      "+------+--------+\n",
      "\n"
     ]
    }
   ],
   "source": [
    "elements.createOrReplaceTempView(\"elements\")\n",
    "\n",
    "spark.sql(\"\"\"\n",
    "  SELECT period, COUNT(*) \n",
    "    FROM elements \n",
    "    WHERE phase='liq' \n",
    "    GROUP BY period\n",
    "\"\"\").show(5)"
   ]
  },
  {
   "cell_type": "markdown",
   "metadata": {},
   "source": [
    "## Processing big data with PySpark SQL"
   ]
  },
  {
   "cell_type": "markdown",
   "metadata": {},
   "source": [
    "We use the datasets from [Backblaze](https://www.backblaze.com/cloud-storage/resources/hard-drive-test-data#downloadingTheRawTestData)   \n",
    "\n",
    "The fullset reading and union takes 41 secs. \n",
    "For a single reading `data_Q3_2019` only takes 8 secs."
   ]
  },
  {
   "cell_type": "code",
   "execution_count": 13,
   "metadata": {},
   "outputs": [
    {
     "name": "stdout",
     "output_type": "stream",
     "text": [
      "Read data_Q3_2019\n"
     ]
    }
   ],
   "source": [
    "use_fullset = False # default is False\n",
    "\n",
    "# DATA_DIRECTORY = \"./data/backblaze/\"   # change into this for the students\n",
    "DATA_DIRECTORY = \"../rioux-2022/data/backblaze/\"\n",
    "\n",
    "# 8 secs\n",
    "print(\"Read data_Q3_2019\")\n",
    "q3 = spark.read.csv(\n",
    "  DATA_DIRECTORY + \"data_Q3_2019\", header=True, inferSchema=True)\n",
    "\n",
    "\n",
    "if use_fullset:\n",
    "  print(\"Read data_Q1_2019\")\n",
    "  q1 = spark.read.csv(\n",
    "    DATA_DIRECTORY + \"data_Q1_2019\", header=True, inferSchema=True)\n",
    "  \n",
    "  print(\"Read data_Q2_2019\")\n",
    "  q2 = spark.read.csv(\n",
    "    DATA_DIRECTORY + \"data_Q2_2019\", header=True, inferSchema=True)\n",
    "  \n",
    "  print(\"Read data_Q4_2019\")\n",
    "  q4 = spark.read.csv(\n",
    "    DATA_DIRECTORY + \"data_Q4_2019\", header=True, inferSchema=True)\n",
    "  \n",
    "  # Q4 has two more fields than the rest\n",
    "  q4_fields_extra = set(q4.columns) - set(q1.columns)\n",
    "\n",
    "  for i in q4_fields_extra:\n",
    "    q1 = q1.withColumn(i, F.lit(None).cast(T.StringType()))\n",
    "    q2 = q2.withColumn(i, F.lit(None).cast(T.StringType()))\n",
    "    q3 = q3.withColumn(i, F.lit(None).cast(T.StringType()))\n",
    "\n",
    "  # if you are using the full set of data, use this version\n",
    "  backblaze_2019 = (\n",
    "    q1.select(q4.columns)\n",
    "      .union(q2.select(q4.columns))\n",
    "      .union(q3.select(q4.columns))\n",
    "      .union(q4.select(q4.columns))\n",
    "  )\n",
    "else:\n",
    "  # if you are only using the minimal set of data, use this version\n",
    "  backblaze_2019 = q3\n",
    "\n",
    "\n",
    "# Setting the layout for each column according to the schema\n",
    "backblaze_2019 = backblaze_2019.select(\n",
    "  [F.col(x).cast(T.LongType()) if x.startswith(\"smart\") else F.col(x)\n",
    "    for x in backblaze_2019.columns]\n",
    ")\n",
    "\n",
    "# Connect Python variable backblaze_2019 to PySpark SQL table `backblaze_stats_2019`\n",
    "backblaze_2019.createOrReplaceTempView(\"backblaze_stats_2019\")"
   ]
  },
  {
   "cell_type": "markdown",
   "metadata": {},
   "source": [
    "The meaning of the columns of S.M.A.R.T. stats can be checked in \n",
    "[ATA S.M.A.R.T. attributes](https://en.wikipedia.org/wiki/Self-Monitoring,_Analysis_and_Reporting_Technology)\n"
   ]
  },
  {
   "cell_type": "code",
   "execution_count": 14,
   "metadata": {},
   "outputs": [
    {
     "name": "stdout",
     "output_type": "stream",
     "text": [
      "+----------+--------------+--------------------+--------------+-------+------------------+-----------+------------------+-----------+------------------+-----------+------------------+-----------+------------------+-----------+------------------+-----------+------------------+-----------+------------------+-----------+-------------------+------------+-------------------+------------+-------------------+------------+-------------------+------------+-------------------+------------+-------------------+------------+-------------------+------------+-------------------+------------+-------------------+------------+-------------------+------------+--------------------+-------------+--------------------+-------------+--------------------+-------------+--------------------+-------------+--------------------+-------------+--------------------+-------------+--------------------+-------------+--------------------+-------------+--------------------+-------------+--------------------+-------------+--------------------+-------------+--------------------+-------------+--------------------+-------------+--------------------+-------------+--------------------+-------------+--------------------+-------------+--------------------+-------------+--------------------+-------------+--------------------+-------------+--------------------+-------------+--------------------+-------------+--------------------+-------------+--------------------+-------------+--------------------+-------------+--------------------+-------------+--------------------+-------------+--------------------+-------------+--------------------+-------------+--------------------+-------------+--------------------+-------------+--------------------+-------------+--------------------+-------------+--------------------+-------------+--------------------+-------------+--------------------+-------------+--------------------+-------------+--------------------+-------------+--------------------+-------------+--------------------+-------------+--------------------+-------------+--------------------+-------------+--------------------+-------------+--------------------+-------------+--------------------+-------------+\n",
      "|      date| serial_number|               model|capacity_bytes|failure|smart_1_normalized|smart_1_raw|smart_2_normalized|smart_2_raw|smart_3_normalized|smart_3_raw|smart_4_normalized|smart_4_raw|smart_5_normalized|smart_5_raw|smart_7_normalized|smart_7_raw|smart_8_normalized|smart_8_raw|smart_9_normalized|smart_9_raw|smart_10_normalized|smart_10_raw|smart_11_normalized|smart_11_raw|smart_12_normalized|smart_12_raw|smart_13_normalized|smart_13_raw|smart_15_normalized|smart_15_raw|smart_16_normalized|smart_16_raw|smart_17_normalized|smart_17_raw|smart_22_normalized|smart_22_raw|smart_23_normalized|smart_23_raw|smart_24_normalized|smart_24_raw|smart_168_normalized|smart_168_raw|smart_170_normalized|smart_170_raw|smart_173_normalized|smart_173_raw|smart_174_normalized|smart_174_raw|smart_177_normalized|smart_177_raw|smart_179_normalized|smart_179_raw|smart_181_normalized|smart_181_raw|smart_182_normalized|smart_182_raw|smart_183_normalized|smart_183_raw|smart_184_normalized|smart_184_raw|smart_187_normalized|smart_187_raw|smart_188_normalized|smart_188_raw|smart_189_normalized|smart_189_raw|smart_190_normalized|smart_190_raw|smart_191_normalized|smart_191_raw|smart_192_normalized|smart_192_raw|smart_193_normalized|smart_193_raw|smart_194_normalized|smart_194_raw|smart_195_normalized|smart_195_raw|smart_196_normalized|smart_196_raw|smart_197_normalized|smart_197_raw|smart_198_normalized|smart_198_raw|smart_199_normalized|smart_199_raw|smart_200_normalized|smart_200_raw|smart_201_normalized|smart_201_raw|smart_218_normalized|smart_218_raw|smart_220_normalized|smart_220_raw|smart_222_normalized|smart_222_raw|smart_223_normalized|smart_223_raw|smart_224_normalized|smart_224_raw|smart_225_normalized|smart_225_raw|smart_226_normalized|smart_226_raw|smart_231_normalized|smart_231_raw|smart_232_normalized|smart_232_raw|smart_233_normalized|smart_233_raw|smart_235_normalized|smart_235_raw|smart_240_normalized|smart_240_raw|smart_241_normalized|smart_241_raw|smart_242_normalized|smart_242_raw|smart_250_normalized|smart_250_raw|smart_251_normalized|smart_251_raw|smart_252_normalized|smart_252_raw|smart_254_normalized|smart_254_raw|smart_255_normalized|smart_255_raw|\n",
      "+----------+--------------+--------------------+--------------+-------+------------------+-----------+------------------+-----------+------------------+-----------+------------------+-----------+------------------+-----------+------------------+-----------+------------------+-----------+------------------+-----------+-------------------+------------+-------------------+------------+-------------------+------------+-------------------+------------+-------------------+------------+-------------------+------------+-------------------+------------+-------------------+------------+-------------------+------------+-------------------+------------+--------------------+-------------+--------------------+-------------+--------------------+-------------+--------------------+-------------+--------------------+-------------+--------------------+-------------+--------------------+-------------+--------------------+-------------+--------------------+-------------+--------------------+-------------+--------------------+-------------+--------------------+-------------+--------------------+-------------+--------------------+-------------+--------------------+-------------+--------------------+-------------+--------------------+-------------+--------------------+-------------+--------------------+-------------+--------------------+-------------+--------------------+-------------+--------------------+-------------+--------------------+-------------+--------------------+-------------+--------------------+-------------+--------------------+-------------+--------------------+-------------+--------------------+-------------+--------------------+-------------+--------------------+-------------+--------------------+-------------+--------------------+-------------+--------------------+-------------+--------------------+-------------+--------------------+-------------+--------------------+-------------+--------------------+-------------+--------------------+-------------+--------------------+-------------+--------------------+-------------+--------------------+-------------+--------------------+-------------+--------------------+-------------+--------------------+-------------+\n",
      "|2019-09-27|      Z305B2QN|         ST4000DM000| 4000787030016|      0|               118|  195290392|              NULL|       NULL|                91|          0|               100|         13|               100|          0|                88|  697337445|              NULL|       NULL|                63|      33165|                100|           0|               NULL|        NULL|                100|          13|               NULL|        NULL|               NULL|        NULL|               NULL|        NULL|               NULL|        NULL|               NULL|        NULL|               NULL|        NULL|               NULL|        NULL|                NULL|         NULL|                NULL|         NULL|                NULL|         NULL|                NULL|         NULL|                NULL|         NULL|                NULL|         NULL|                NULL|         NULL|                NULL|         NULL|                 100|            0|                 100|            0|                 100|            0|                 100|            0|                 100|            0|                  78|           22|                 100|            0|                 100|            0|                  83|        34188|                  22|           22|                NULL|         NULL|                NULL|         NULL|                 100|            0|                 100|            0|                 200|            0|                NULL|         NULL|                NULL|         NULL|                NULL|         NULL|                NULL|         NULL|                NULL|         NULL|                NULL|         NULL|                NULL|         NULL|                NULL|         NULL|                NULL|         NULL|                NULL|         NULL|                NULL|         NULL|                NULL|         NULL|                NULL|         NULL|                 100|        32914|                 100|  50546298288|                 100| 161545142558|                NULL|         NULL|                NULL|         NULL|                NULL|         NULL|                NULL|         NULL|                NULL|         NULL|\n",
      "|2019-09-27|      ZJV0XJQ4|       ST12000NM0007|12000138625024|      0|                82|  170556840|              NULL|       NULL|                96|          0|               100|          3|               100|          0|                86|  407878481|              NULL|       NULL|                89|      10203|                100|           0|               NULL|        NULL|                100|           3|               NULL|        NULL|               NULL|        NULL|               NULL|        NULL|               NULL|        NULL|               NULL|        NULL|               NULL|        NULL|               NULL|        NULL|                NULL|         NULL|                NULL|         NULL|                NULL|         NULL|                NULL|         NULL|                NULL|         NULL|                NULL|         NULL|                NULL|         NULL|                NULL|         NULL|                NULL|         NULL|                NULL|         NULL|                 100|            0|                 100|            0|                NULL|         NULL|                  70|           30|                NULL|         NULL|                 100|          128|                  99|         2422|                  30|           30|                  82|    170556840|                NULL|         NULL|                 100|            0|                 100|            0|                 200|            0|                 100|            0|                NULL|         NULL|                NULL|         NULL|                NULL|         NULL|                NULL|         NULL|                NULL|         NULL|                NULL|         NULL|                NULL|         NULL|                NULL|         NULL|                NULL|         NULL|                NULL|         NULL|                NULL|         NULL|                NULL|         NULL|                 100|         9439|                 100|  50663029832|                 100| 125777227098|                NULL|         NULL|                NULL|         NULL|                NULL|         NULL|                NULL|         NULL|                NULL|         NULL|\n",
      "|2019-09-27|      ZJV0XJQ3|       ST12000NM0007|12000138625024|      0|                83|  184799048|              NULL|       NULL|                99|          0|               100|          1|               100|          0|                90|  921725339|              NULL|       NULL|                92|       7234|                100|           0|               NULL|        NULL|                100|           1|               NULL|        NULL|               NULL|        NULL|               NULL|        NULL|               NULL|        NULL|               NULL|        NULL|               NULL|        NULL|               NULL|        NULL|                NULL|         NULL|                NULL|         NULL|                NULL|         NULL|                NULL|         NULL|                NULL|         NULL|                NULL|         NULL|                NULL|         NULL|                NULL|         NULL|                NULL|         NULL|                NULL|         NULL|                 100|            0|                 100|            0|                NULL|         NULL|                  64|           36|                NULL|         NULL|                 100|           96|                 100|         1877|                  36|           36|                  83|    184799048|                NULL|         NULL|                 100|            0|                 100|            0|                 200|            0|                 100|            0|                NULL|         NULL|                NULL|         NULL|                NULL|         NULL|                NULL|         NULL|                NULL|         NULL|                NULL|         NULL|                NULL|         NULL|                NULL|         NULL|                NULL|         NULL|                NULL|         NULL|                NULL|         NULL|                NULL|         NULL|                 100|         6882|                 100|  48888137792|                 100|  45535067190|                NULL|         NULL|                NULL|         NULL|                NULL|         NULL|                NULL|         NULL|                NULL|         NULL|\n",
      "|2019-09-27|      ZJV0XJQ0|       ST12000NM0007|12000138625024|      0|                82|  170272488|              NULL|       NULL|                93|          0|               100|          6|               100|          0|                86|  400437013|              NULL|       NULL|                88|      10803|                100|           0|               NULL|        NULL|                100|           6|               NULL|        NULL|               NULL|        NULL|               NULL|        NULL|               NULL|        NULL|               NULL|        NULL|               NULL|        NULL|               NULL|        NULL|                NULL|         NULL|                NULL|         NULL|                NULL|         NULL|                NULL|         NULL|                NULL|         NULL|                NULL|         NULL|                NULL|         NULL|                NULL|         NULL|                NULL|         NULL|                NULL|         NULL|                 100|            0|                 100|            0|                NULL|         NULL|                  74|           26|                NULL|         NULL|                 100|          129|                 100|          966|                  26|           26|                  82|    170272488|                NULL|         NULL|                 100|            0|                 100|            0|                 200|            0|                 100|            0|                NULL|         NULL|                NULL|         NULL|                NULL|         NULL|                NULL|         NULL|                NULL|         NULL|                NULL|         NULL|                NULL|         NULL|                NULL|         NULL|                NULL|         NULL|                NULL|         NULL|                NULL|         NULL|                NULL|         NULL|                 100|        10574|                 100|  53123696744|                 100|  93042797144|                NULL|         NULL|                NULL|         NULL|                NULL|         NULL|                NULL|         NULL|                NULL|         NULL|\n",
      "|2019-09-27|PL1331LAHG1S4H|HGST HMS5C4040ALE640| 4000787030016|      0|               100|          0|               134|        103|               100|        436|               100|          9|               100|          0|               100|          0|               113|         42|                97|      23239|                100|           0|               NULL|        NULL|                100|           9|               NULL|        NULL|               NULL|        NULL|               NULL|        NULL|               NULL|        NULL|               NULL|        NULL|               NULL|        NULL|               NULL|        NULL|                NULL|         NULL|                NULL|         NULL|                NULL|         NULL|                NULL|         NULL|                NULL|         NULL|                NULL|         NULL|                NULL|         NULL|                NULL|         NULL|                NULL|         NULL|                NULL|         NULL|                NULL|         NULL|                NULL|         NULL|                NULL|         NULL|                NULL|         NULL|                NULL|         NULL|                 100|          355|                 100|          355|                 214|           28|                NULL|         NULL|                 100|            0|                 100|            0|                 100|            0|                 200|            0|                NULL|         NULL|                NULL|         NULL|                NULL|         NULL|                NULL|         NULL|                NULL|         NULL|                NULL|         NULL|                NULL|         NULL|                NULL|         NULL|                NULL|         NULL|                NULL|         NULL|                NULL|         NULL|                NULL|         NULL|                NULL|         NULL|                NULL|         NULL|                NULL|         NULL|                NULL|         NULL|                NULL|         NULL|                NULL|         NULL|                NULL|         NULL|                NULL|         NULL|                NULL|         NULL|\n",
      "|2019-09-27|      ZA16NQJR|        ST8000NM0055| 8001563222016|      0|                80|  106704400|              NULL|       NULL|                91|          0|               100|          7|               100|          0|                92| 1604593090|              NULL|       NULL|                76|      21118|                100|           0|               NULL|        NULL|                100|           7|               NULL|        NULL|               NULL|        NULL|               NULL|        NULL|               NULL|        NULL|               NULL|        NULL|               NULL|        NULL|               NULL|        NULL|                NULL|         NULL|                NULL|         NULL|                NULL|         NULL|                NULL|         NULL|                NULL|         NULL|                NULL|         NULL|                NULL|         NULL|                NULL|         NULL|                NULL|         NULL|                 100|            0|                 100|            0|                 100|            0|                 100|            0|                  69|           31|                  96|         8099|                 100|           14|                  88|        25799|                  31|           31|                  80|    106704400|                NULL|         NULL|                 100|            0|                 100|            0|                 200|            0|                NULL|         NULL|                NULL|         NULL|                NULL|         NULL|                NULL|         NULL|                NULL|         NULL|                NULL|         NULL|                NULL|         NULL|                NULL|         NULL|                NULL|         NULL|                NULL|         NULL|                NULL|         NULL|                NULL|         NULL|                NULL|         NULL|                 100|        21094|                 100|  58440789336|                 100| 137258901462|                NULL|         NULL|                NULL|         NULL|                NULL|         NULL|                NULL|         NULL|                NULL|         NULL|\n",
      "|2019-09-27|      ZJV02XWG|       ST12000NM0007|12000138625024|      0|                77|   48125888|              NULL|       NULL|                89|          0|               100|          8|               100|          0|                86|  443560774|              NULL|       NULL|                87|      12147|                100|           0|               NULL|        NULL|                100|           8|               NULL|        NULL|               NULL|        NULL|               NULL|        NULL|               NULL|        NULL|               NULL|        NULL|               NULL|        NULL|               NULL|        NULL|                NULL|         NULL|                NULL|         NULL|                NULL|         NULL|                NULL|         NULL|                NULL|         NULL|                NULL|         NULL|                NULL|         NULL|                NULL|         NULL|                NULL|         NULL|                NULL|         NULL|                 100|            0|                 100|            0|                NULL|         NULL|                  70|           30|                NULL|         NULL|                 100|          163|                 100|          957|                  30|           30|                  77|     48125888|                NULL|         NULL|                 100|            0|                 100|            0|                 200|            0|                 100|            0|                NULL|         NULL|                NULL|         NULL|                NULL|         NULL|                NULL|         NULL|                NULL|         NULL|                NULL|         NULL|                NULL|         NULL|                NULL|         NULL|                NULL|         NULL|                NULL|         NULL|                NULL|         NULL|                NULL|         NULL|                 100|        11943|                 100|  51769538856|                 100|  98669361000|                NULL|         NULL|                NULL|         NULL|                NULL|         NULL|                NULL|         NULL|                NULL|         NULL|\n",
      "|2019-09-27|      ZJV1CSVX|       ST12000NM0007|12000138625024|      0|                80|  106034568|              NULL|       NULL|                89|          0|               100|         14|               100|          0|                87|  496770857|              NULL|       NULL|                89|      10460|                100|           0|               NULL|        NULL|                100|          14|               NULL|        NULL|               NULL|        NULL|               NULL|        NULL|               NULL|        NULL|               NULL|        NULL|               NULL|        NULL|               NULL|        NULL|                NULL|         NULL|                NULL|         NULL|                NULL|         NULL|                NULL|         NULL|                NULL|         NULL|                NULL|         NULL|                NULL|         NULL|                NULL|         NULL|                NULL|         NULL|                NULL|         NULL|                 100|            0|                 100|            0|                NULL|         NULL|                  68|           32|                NULL|         NULL|                 100|          138|                 100|          667|                  32|           32|                  80|    106034568|                NULL|         NULL|                 100|            0|                 100|            0|                 200|            0|                 100|            0|                NULL|         NULL|                NULL|         NULL|                NULL|         NULL|                NULL|         NULL|                NULL|         NULL|                NULL|         NULL|                NULL|         NULL|                NULL|         NULL|                NULL|         NULL|                NULL|         NULL|                NULL|         NULL|                NULL|         NULL|                 100|        10352|                 100|  53983479272|                 100| 138261390736|                NULL|         NULL|                NULL|         NULL|                NULL|         NULL|                NULL|         NULL|                NULL|         NULL|\n",
      "|2019-09-27|      ZJV02XWA|       ST12000NM0007|12000138625024|      0|                80|   91643856|              NULL|       NULL|                90|          0|               100|          7|               100|          0|                88|  678333083|              NULL|       NULL|                87|      12133|                100|           0|               NULL|        NULL|                100|           7|               NULL|        NULL|               NULL|        NULL|               NULL|        NULL|               NULL|        NULL|               NULL|        NULL|               NULL|        NULL|               NULL|        NULL|                NULL|         NULL|                NULL|         NULL|                NULL|         NULL|                NULL|         NULL|                NULL|         NULL|                NULL|         NULL|                NULL|         NULL|                NULL|         NULL|                NULL|         NULL|                NULL|         NULL|                 100|            0|                 100|            0|                NULL|         NULL|                  78|           22|                NULL|         NULL|                 100|          161|                 100|          668|                  22|           22|                  80|     91643856|                NULL|         NULL|                 100|            0|                 100|            0|                 200|            0|                 100|            0|                NULL|         NULL|                NULL|         NULL|                NULL|         NULL|                NULL|         NULL|                NULL|         NULL|                NULL|         NULL|                NULL|         NULL|                NULL|         NULL|                NULL|         NULL|                NULL|         NULL|                NULL|         NULL|                NULL|         NULL|                 100|        12036|                 100|  59964774144|                 100| 134218809954|                NULL|         NULL|                NULL|         NULL|                NULL|         NULL|                NULL|         NULL|                NULL|         NULL|\n",
      "|2019-09-27|      ZA18CEBS|        ST8000NM0055| 8001563222016|      0|                75|   33448352|              NULL|       NULL|                97|          0|               100|          2|               100|          0|                87|  506396435|              NULL|       NULL|                80|      18091|                100|           0|               NULL|        NULL|                100|           2|               NULL|        NULL|               NULL|        NULL|               NULL|        NULL|               NULL|        NULL|               NULL|        NULL|               NULL|        NULL|               NULL|        NULL|                NULL|         NULL|                NULL|         NULL|                NULL|         NULL|                NULL|         NULL|                NULL|         NULL|                NULL|         NULL|                NULL|         NULL|                NULL|         NULL|                NULL|         NULL|                 100|            0|                 100|            0|                 100|            0|                 100|            0|                  68|           32|                  89|        22571|                 100|            3|                  88|        25076|                  32|           32|                  75|     33448352|                NULL|         NULL|                 100|            0|                 100|            0|                 200|            0|                NULL|         NULL|                NULL|         NULL|                NULL|         NULL|                NULL|         NULL|                NULL|         NULL|                NULL|         NULL|                NULL|         NULL|                NULL|         NULL|                NULL|         NULL|                NULL|         NULL|                NULL|         NULL|                NULL|         NULL|                NULL|         NULL|                 100|        18063|                 100|  51432732800|                 100| 131986808564|                NULL|         NULL|                NULL|         NULL|                NULL|         NULL|                NULL|         NULL|                NULL|         NULL|\n",
      "+----------+--------------+--------------------+--------------+-------+------------------+-----------+------------------+-----------+------------------+-----------+------------------+-----------+------------------+-----------+------------------+-----------+------------------+-----------+------------------+-----------+-------------------+------------+-------------------+------------+-------------------+------------+-------------------+------------+-------------------+------------+-------------------+------------+-------------------+------------+-------------------+------------+-------------------+------------+-------------------+------------+--------------------+-------------+--------------------+-------------+--------------------+-------------+--------------------+-------------+--------------------+-------------+--------------------+-------------+--------------------+-------------+--------------------+-------------+--------------------+-------------+--------------------+-------------+--------------------+-------------+--------------------+-------------+--------------------+-------------+--------------------+-------------+--------------------+-------------+--------------------+-------------+--------------------+-------------+--------------------+-------------+--------------------+-------------+--------------------+-------------+--------------------+-------------+--------------------+-------------+--------------------+-------------+--------------------+-------------+--------------------+-------------+--------------------+-------------+--------------------+-------------+--------------------+-------------+--------------------+-------------+--------------------+-------------+--------------------+-------------+--------------------+-------------+--------------------+-------------+--------------------+-------------+--------------------+-------------+--------------------+-------------+--------------------+-------------+--------------------+-------------+--------------------+-------------+--------------------+-------------+--------------------+-------------+--------------------+-------------+--------------------+-------------+--------------------+-------------+\n",
      "only showing top 10 rows\n",
      "\n"
     ]
    }
   ],
   "source": [
    "backblaze_2019.show(10)"
   ]
  },
  {
   "cell_type": "markdown",
   "metadata": {},
   "source": [
    "There are 10,338,153 rows in `data_Q3_2019`"
   ]
  },
  {
   "cell_type": "code",
   "execution_count": 15,
   "metadata": {},
   "outputs": [
    {
     "data": {
      "text/plain": [
       "'10,338,153'"
      ]
     },
     "execution_count": 15,
     "metadata": {},
     "output_type": "execute_result"
    }
   ],
   "source": [
    "total_row = backblaze_2019.count()\n",
    "f\"{total_row:,}\""
   ]
  },
  {
   "cell_type": "markdown",
   "metadata": {},
   "source": [
    "There are 116,270 distinct `serial_number` in `data_Q3_2019`"
   ]
  },
  {
   "cell_type": "code",
   "execution_count": 27,
   "metadata": {},
   "outputs": [
    {
     "data": {
      "text/plain": [
       "'116,270'"
      ]
     },
     "execution_count": 27,
     "metadata": {},
     "output_type": "execute_result"
    }
   ],
   "source": [
    "unique_serial_number = backblaze_2019.select(F.col(\"serial_number\")).distinct().count()\n",
    "f\"{unique_serial_number:,}\""
   ]
  },
  {
   "cell_type": "markdown",
   "metadata": {},
   "source": [
    "There are 43 distinct `model` in `data_Q3_2019`"
   ]
  },
  {
   "cell_type": "code",
   "execution_count": 31,
   "metadata": {},
   "outputs": [],
   "source": [
    "df_unique_model = backblaze_2019.select(F.col(\"model\")).distinct()"
   ]
  },
  {
   "cell_type": "code",
   "execution_count": 32,
   "metadata": {},
   "outputs": [
    {
     "name": "stdout",
     "output_type": "stream",
     "text": [
      "+-----------------------------------+\n",
      "|model                              |\n",
      "+-----------------------------------+\n",
      "|ST9250315AS                        |\n",
      "|ST4000DM000                        |\n",
      "|ST12000NM0007                      |\n",
      "|ST8000DM005                        |\n",
      "|ST320LT007                         |\n",
      "|TOSHIBA MQ01ABF050M                |\n",
      "|ST8000NM0055                       |\n",
      "|Seagate BarraCuda SSD ZA2000CM10002|\n",
      "|TOSHIBA MG07ACA14TA                |\n",
      "|WDC WD60EFRX                       |\n",
      "|ST8000DM002                        |\n",
      "|ST4000DM005                        |\n",
      "|DELLBOSS VD                        |\n",
      "|HGST HUS726040ALE610               |\n",
      "|TOSHIBA HDWF180                    |\n",
      "|HGST HMS5C4040ALE640               |\n",
      "|HGST HUH721010ALE600               |\n",
      "|Seagate SSD                        |\n",
      "|TOSHIBA MD04ABA400V                |\n",
      "|ST10000NM0086                      |\n",
      "|TOSHIBA MQ01ABF050                 |\n",
      "|ST500LM021                         |\n",
      "|Seagate BarraCuda SSD ZA500CM10002 |\n",
      "|ST6000DM004                        |\n",
      "|ST6000DM001                        |\n",
      "|HGST HMS5C4040BLE640               |\n",
      "|ST6000DX000                        |\n",
      "|WDC WD5000LPVX                     |\n",
      "|Seagate BarraCuda SSD ZA250CM10002 |\n",
      "|WDC WD5000BPKT                     |\n",
      "|TOSHIBA HDWE160                    |\n",
      "|ST500LM030                         |\n",
      "|HGST HMS5C4040BLE641               |\n",
      "|ST500LM012 HN                      |\n",
      "|HGST HUH728080ALE600               |\n",
      "|ST1000LM024 HN                     |\n",
      "|HGST HDS5C4040ALE630               |\n",
      "|Hitachi HDS5C4040ALE630            |\n",
      "|HGST HUH721212ALE600               |\n",
      "|WDC WD5000LPCX                     |\n",
      "|ST8000DM004                        |\n",
      "|ST12000NM0117                      |\n",
      "|HGST HUH721212ALN604               |\n",
      "+-----------------------------------+\n",
      "\n"
     ]
    },
    {
     "data": {
      "text/plain": [
       "43"
      ]
     },
     "execution_count": 32,
     "metadata": {},
     "output_type": "execute_result"
    }
   ],
   "source": [
    "df_unique_model.show(50, truncate=False)\n",
    "df_unique_model.count()"
   ]
  },
  {
   "cell_type": "markdown",
   "metadata": {},
   "source": [
    "**Self-exercise**"
   ]
  },
  {
   "cell_type": "markdown",
   "metadata": {},
   "source": [
    "Create a new column `mfg` that represents the manufacturing company of the hard-drive:  \n",
    "- `ST` or `Se`: \"Seagate\"\n",
    "- `HG`: \"HGST\"\n",
    "- `Hi`: \"HGST\"\n",
    "- `TO`: \"Toshiba\"\n",
    "- `WD`: \"WDC\"\n",
    "- `DE`: \"Dell\""
   ]
  },
  {
   "cell_type": "markdown",
   "metadata": {},
   "source": [
    "Manual solution"
   ]
  },
  {
   "cell_type": "code",
   "execution_count": 96,
   "metadata": {},
   "outputs": [
    {
     "name": "stdout",
     "output_type": "stream",
     "text": [
      "+-----------------------------------+-------+\n",
      "|model                              |first2 |\n",
      "+-----------------------------------+-------+\n",
      "|ST9250315AS                        |Seagate|\n",
      "|ST4000DM000                        |Seagate|\n",
      "|ST12000NM0007                      |Seagate|\n",
      "|ST8000DM005                        |Seagate|\n",
      "|ST320LT007                         |Seagate|\n",
      "|TOSHIBA MQ01ABF050M                |Toshiba|\n",
      "|ST8000NM0055                       |Seagate|\n",
      "|Seagate BarraCuda SSD ZA2000CM10002|Seagate|\n",
      "|TOSHIBA MG07ACA14TA                |Toshiba|\n",
      "|WDC WD60EFRX                       |WD     |\n",
      "|ST8000DM002                        |Seagate|\n",
      "|ST4000DM005                        |Seagate|\n",
      "|DELLBOSS VD                        |DE     |\n",
      "|HGST HUS726040ALE610               |HG     |\n",
      "|TOSHIBA HDWF180                    |Toshiba|\n",
      "|HGST HMS5C4040ALE640               |HG     |\n",
      "|HGST HUH721010ALE600               |HG     |\n",
      "|Seagate SSD                        |Seagate|\n",
      "|TOSHIBA MD04ABA400V                |Toshiba|\n",
      "|ST10000NM0086                      |Seagate|\n",
      "|TOSHIBA MQ01ABF050                 |Toshiba|\n",
      "|ST500LM021                         |Seagate|\n",
      "|Seagate BarraCuda SSD ZA500CM10002 |Seagate|\n",
      "|ST6000DM004                        |Seagate|\n",
      "|ST6000DM001                        |Seagate|\n",
      "|HGST HMS5C4040BLE640               |HG     |\n",
      "|ST6000DX000                        |Seagate|\n",
      "|WDC WD5000LPVX                     |WD     |\n",
      "|Seagate BarraCuda SSD ZA250CM10002 |Seagate|\n",
      "|WDC WD5000BPKT                     |WD     |\n",
      "|TOSHIBA HDWE160                    |Toshiba|\n",
      "|ST500LM030                         |Seagate|\n",
      "|HGST HMS5C4040BLE641               |HG     |\n",
      "|ST500LM012 HN                      |Seagate|\n",
      "|HGST HUH728080ALE600               |HG     |\n",
      "|ST1000LM024 HN                     |Seagate|\n",
      "|HGST HDS5C4040ALE630               |HG     |\n",
      "|Hitachi HDS5C4040ALE630            |Hi     |\n",
      "|HGST HUH721212ALE600               |HG     |\n",
      "|WDC WD5000LPCX                     |WD     |\n",
      "|ST8000DM004                        |Seagate|\n",
      "|ST12000NM0117                      |Seagate|\n",
      "|HGST HUH721212ALN604               |HG     |\n",
      "+-----------------------------------+-------+\n",
      "\n"
     ]
    }
   ],
   "source": [
    "(df_unique_model\n",
    "  .select(\n",
    "    F.col(\"model\"), F.substring(F.col(\"model\"), 1, 2).alias(\"first2\"))\n",
    "  .select(\n",
    "    F.col(\"model\"), \n",
    "    (F.when(F.col(\"first2\") == \"ST\", \"Seagate\")\n",
    "      .otherwise(F.col(\"first2\")).alias(\"first2\"))\n",
    "  )\n",
    "  .select(\n",
    "    F.col(\"model\"), \n",
    "    (F.when(F.col(\"first2\") == \"Se\", \"Seagate\")\n",
    "      .otherwise(F.col(\"first2\")).alias(\"first2\"))\n",
    "  )\n",
    "  .select(\n",
    "    F.col(\"model\"), \n",
    "    (F.when(F.col(\"first2\") == \"TO\", \"Toshiba\")\n",
    "      .otherwise(F.col(\"first2\")).alias(\"first2\"))\n",
    "  )\n",
    ").show(50, truncate=False)"
   ]
  },
  {
   "cell_type": "markdown",
   "metadata": {},
   "source": [
    "With the help of ChatGPT"
   ]
  },
  {
   "cell_type": "code",
   "execution_count": 108,
   "metadata": {},
   "outputs": [
    {
     "name": "stdout",
     "output_type": "stream",
     "text": [
      "+-----------------------------------+-------+\n",
      "|model                              |mfg    |\n",
      "+-----------------------------------+-------+\n",
      "|ST9250315AS                        |Seagate|\n",
      "|ST4000DM000                        |Seagate|\n",
      "|ST12000NM0007                      |Seagate|\n",
      "|ST8000DM005                        |Seagate|\n",
      "|ST320LT007                         |Seagate|\n",
      "|TOSHIBA MQ01ABF050M                |Toshiba|\n",
      "|ST8000NM0055                       |Seagate|\n",
      "|Seagate BarraCuda SSD ZA2000CM10002|Seagate|\n",
      "|TOSHIBA MG07ACA14TA                |Toshiba|\n",
      "|WDC WD60EFRX                       |WDC    |\n",
      "|ST8000DM002                        |Seagate|\n",
      "|ST4000DM005                        |Seagate|\n",
      "|DELLBOSS VD                        |DELL   |\n",
      "|HGST HUS726040ALE610               |HGST   |\n",
      "|TOSHIBA HDWF180                    |Toshiba|\n",
      "|HGST HMS5C4040ALE640               |HGST   |\n",
      "|HGST HUH721010ALE600               |HGST   |\n",
      "|Seagate SSD                        |Seagate|\n",
      "|TOSHIBA MD04ABA400V                |Toshiba|\n",
      "|ST10000NM0086                      |Seagate|\n",
      "|TOSHIBA MQ01ABF050                 |Toshiba|\n",
      "|ST500LM021                         |Seagate|\n",
      "|Seagate BarraCuda SSD ZA500CM10002 |Seagate|\n",
      "|ST6000DM004                        |Seagate|\n",
      "|ST6000DM001                        |Seagate|\n",
      "|HGST HMS5C4040BLE640               |HGST   |\n",
      "|ST6000DX000                        |Seagate|\n",
      "|WDC WD5000LPVX                     |WDC    |\n",
      "|Seagate BarraCuda SSD ZA250CM10002 |Seagate|\n",
      "|WDC WD5000BPKT                     |WDC    |\n",
      "|TOSHIBA HDWE160                    |Toshiba|\n",
      "|ST500LM030                         |Seagate|\n",
      "|HGST HMS5C4040BLE641               |HGST   |\n",
      "|ST500LM012 HN                      |Seagate|\n",
      "|HGST HUH728080ALE600               |HGST   |\n",
      "|ST1000LM024 HN                     |Seagate|\n",
      "|HGST HDS5C4040ALE630               |HGST   |\n",
      "|Hitachi HDS5C4040ALE630            |HGST   |\n",
      "|HGST HUH721212ALE600               |HGST   |\n",
      "|WDC WD5000LPCX                     |WDC    |\n",
      "|ST8000DM004                        |Seagate|\n",
      "|ST12000NM0117                      |Seagate|\n",
      "|HGST HUH721212ALN604               |HGST   |\n",
      "+-----------------------------------+-------+\n",
      "\n"
     ]
    }
   ],
   "source": [
    "df_unique_model.withColumn(\n",
    "  \"mfg\", \n",
    "  F.when(F.col(\"model\").startswith(\"ST\"), \"Seagate\")\n",
    "   .when(F.col(\"model\").startswith(\"Se\"), \"Seagate\")\n",
    "   .when(F.col(\"model\").startswith(\"TO\"), \"Toshiba\")\n",
    "   .when(F.col(\"model\").startswith(\"WD\"), \"WDC\")\n",
    "   .when(F.col(\"model\").startswith(\"HG\"), \"HGST\")\n",
    "   .when(F.col(\"model\").startswith(\"Hi\"), \"HGST\")\n",
    "   .when(F.col(\"model\").startswith(\"DE\"), \"DELL\")\n",
    ").show(50, truncate=False)"
   ]
  },
  {
   "cell_type": "markdown",
   "metadata": {},
   "source": [
    "## Playing around with Spark SQL and PySpark on `backblaze_stats_2019`"
   ]
  },
  {
   "cell_type": "markdown",
   "metadata": {},
   "source": [
    "### Show only the failure serial numbers"
   ]
  },
  {
   "cell_type": "markdown",
   "metadata": {},
   "source": [
    "**Embedded SQL in PySpark**"
   ]
  },
  {
   "cell_type": "code",
   "execution_count": 16,
   "metadata": {},
   "outputs": [
    {
     "name": "stdout",
     "output_type": "stream",
     "text": [
      "+-------------+\n",
      "|serial_number|\n",
      "+-------------+\n",
      "|     ZA10MCJ5|\n",
      "|     ZCH07T9K|\n",
      "|     ZCH0CA7Z|\n",
      "|     Z302F381|\n",
      "|     ZCH0B3Z2|\n",
      "+-------------+\n",
      "only showing top 5 rows\n",
      "\n"
     ]
    }
   ],
   "source": [
    "# data_Q3_2019: 622 rows for the failure state (.count())\n",
    "spark.sql('''\n",
    "  SELECT serial_number \n",
    "    FROM backblaze_stats_2019 \n",
    "    WHERE failure = 1\n",
    "''').show(5)"
   ]
  },
  {
   "cell_type": "markdown",
   "metadata": {},
   "source": [
    "**PySpark functions**"
   ]
  },
  {
   "cell_type": "code",
   "execution_count": 20,
   "metadata": {},
   "outputs": [
    {
     "name": "stdout",
     "output_type": "stream",
     "text": [
      "+-------------+\n",
      "|serial_number|\n",
      "+-------------+\n",
      "|     ZA10MCJ5|\n",
      "|     ZCH07T9K|\n",
      "|     ZCH0CA7Z|\n",
      "|     Z302F381|\n",
      "|     ZCH0B3Z2|\n",
      "+-------------+\n",
      "only showing top 5 rows\n",
      "\n",
      "622\n",
      "622\n"
     ]
    }
   ],
   "source": [
    "(backblaze_2019\n",
    "  .select(F.col(\"serial_number\"))\n",
    "  .where(F.col(\"failure\") == 1)\n",
    "  .show(5))\n",
    "\n",
    "print((backblaze_2019\n",
    "  .select(F.col(\"serial_number\"))\n",
    "  .where(F.col(\"failure\") == 1)\n",
    ").count())\n",
    "\n",
    "print((backblaze_2019\n",
    "  .select(F.col(\"serial_number\"))\n",
    "  .where(F.col(\"failure\") == 1)\n",
    ").distinct().count())\n"
   ]
  },
  {
   "cell_type": "markdown",
   "metadata": {},
   "source": [
    "### Grouping and ordering"
   ]
  },
  {
   "cell_type": "markdown",
   "metadata": {},
   "source": [
    "Let us see the `capacity_bytes` column"
   ]
  },
  {
   "cell_type": "code",
   "execution_count": null,
   "metadata": {},
   "outputs": [
    {
     "name": "stdout",
     "output_type": "stream",
     "text": [
      "+--------------+\n",
      "|capacity_bytes|\n",
      "+--------------+\n",
      "| 4000787030016|\n",
      "|12000138625024|\n",
      "|12000138625024|\n",
      "|12000138625024|\n",
      "| 4000787030016|\n",
      "+--------------+\n",
      "only showing top 5 rows\n",
      "\n"
     ]
    },
    {
     "data": {
      "text/plain": [
       "14"
      ]
     },
     "execution_count": 24,
     "metadata": {},
     "output_type": "execute_result"
    }
   ],
   "source": [
    "backblaze_2019.select(\n",
    "  F.col(\"capacity_bytes\")\n",
    ").show(5)\n",
    "\n",
    "\n",
    "# data_Q3_2019: distinct row of `capacity_bytes`: 14\n",
    "backblaze_2019.select(\n",
    "  F.col(\"capacity_bytes\")\n",
    ").distinct().count()"
   ]
  },
  {
   "cell_type": "markdown",
   "metadata": {},
   "source": [
    "Let us see the `model` name column"
   ]
  },
  {
   "cell_type": "code",
   "execution_count": 27,
   "metadata": {},
   "outputs": [
    {
     "name": "stdout",
     "output_type": "stream",
     "text": [
      "+--------------------+\n",
      "|               model|\n",
      "+--------------------+\n",
      "|         ST4000DM000|\n",
      "|       ST12000NM0007|\n",
      "|       ST12000NM0007|\n",
      "|       ST12000NM0007|\n",
      "|HGST HMS5C4040ALE640|\n",
      "+--------------------+\n",
      "only showing top 5 rows\n",
      "\n"
     ]
    },
    {
     "data": {
      "text/plain": [
       "43"
      ]
     },
     "execution_count": 27,
     "metadata": {},
     "output_type": "execute_result"
    }
   ],
   "source": [
    "backblaze_2019.select(\n",
    "  F.col(\"model\")\n",
    ").show(5)\n",
    "\n",
    "backblaze_2019.select(\n",
    "  F.col(\"model\")\n",
    ").distinct().count()"
   ]
  },
  {
   "cell_type": "markdown",
   "metadata": {},
   "source": [
    "**Embedded SQL in PySpark**"
   ]
  },
  {
   "cell_type": "code",
   "execution_count": 13,
   "metadata": {},
   "outputs": [
    {
     "name": "stdout",
     "output_type": "stream",
     "text": [
      "+--------------------+--------------------+-------+\n",
      "|               model|              min_GB| max_GB|\n",
      "+--------------------+--------------------+-------+\n",
      "| TOSHIBA MG07ACA14TA|             13039.0|13039.0|\n",
      "|       ST12000NM0007|-9.31322574615478...|11176.0|\n",
      "|HGST HUH721212ALE600|             11176.0|11176.0|\n",
      "|       ST12000NM0117|             11176.0|11176.0|\n",
      "|HGST HUH721212ALN604|-9.31322574615478...|11176.0|\n",
      "+--------------------+--------------------+-------+\n",
      "only showing top 5 rows\n",
      "\n"
     ]
    }
   ],
   "source": [
    "# Approximately 9 secs for all quarters\n",
    "spark.sql(\"\"\"\n",
    "  SELECT \n",
    "    model,\n",
    "    MIN(capacity_bytes / POW(1024, 3)) min_GB,\n",
    "    MAX(capacity_bytes / POW(1024, 3)) max_GB\n",
    "  FROM backblaze_stats_2019\n",
    "  GROUP BY 1 \n",
    "  ORDER BY 3 DESC\n",
    "  \"\"\").show(5)"
   ]
  },
  {
   "cell_type": "markdown",
   "metadata": {},
   "source": [
    "**PySpark functions**"
   ]
  },
  {
   "cell_type": "code",
   "execution_count": 28,
   "metadata": {},
   "outputs": [
    {
     "name": "stdout",
     "output_type": "stream",
     "text": [
      "+--------------------+--------------------+-----------------+\n",
      "|               model|              min_GB|           max_GB|\n",
      "+--------------------+--------------------+-----------------+\n",
      "|       ST12000NM0007|-9.31322574615478...|          11176.0|\n",
      "|HGST HUH721212ALN604|-9.31322574615478...|          11176.0|\n",
      "|HGST HUH721010ALE600|-9.31322574615478...|           9314.0|\n",
      "|       ST10000NM0086|-9.31322574615478...|           9314.0|\n",
      "|        ST8000NM0055|-9.31322574615478...|7452.036460876465|\n",
      "+--------------------+--------------------+-----------------+\n",
      "only showing top 5 rows\n",
      "\n"
     ]
    }
   ],
   "source": [
    "(backblaze_2019\n",
    "  .groupby(F.col(\"model\"))\n",
    "  .agg(\n",
    "    F.min(F.col(\"capacity_bytes\") / F.pow(F.lit(1024), 3)).alias(\"min_GB\"),\n",
    "    F.max(F.col(\"capacity_bytes\") / F.pow(F.lit(1024), 3)).alias(\"max_GB\"))\n",
    "  .where(F.col(\"min_GB\") != F.col(\"max_GB\"))\n",
    "  .orderBy(F.col(\"max_GB\"), ascending=False)\n",
    "  .show(5))"
   ]
  }
 ],
 "metadata": {
  "kernelspec": {
   "display_name": "learnPySpark",
   "language": "python",
   "name": "python3"
  },
  "language_info": {
   "codemirror_mode": {
    "name": "ipython",
    "version": 3
   },
   "file_extension": ".py",
   "mimetype": "text/x-python",
   "name": "python",
   "nbconvert_exporter": "python",
   "pygments_lexer": "ipython3",
   "version": "3.11.9"
  }
 },
 "nbformat": 4,
 "nbformat_minor": 2
}
